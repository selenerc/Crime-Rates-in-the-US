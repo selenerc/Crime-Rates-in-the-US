{
 "cells": [
  {
   "cell_type": "markdown",
   "metadata": {},
   "source": [
    "# Selene Reyes \n",
    "\n",
    "## MSBA 320 Project 8: Crime Rates in the U.S."
   ]
  },
  {
   "cell_type": "code",
   "execution_count": 1010,
   "metadata": {},
   "outputs": [],
   "source": [
    "# Importing libraries\n",
    "import pandas as pd\n",
    "import numpy as np\n",
    "#import scipy.stats as st\n",
    "import statsmodels.api as sm\n",
    "from statsmodels.formula.api import ols\n",
    "#from statsmodels.stats.anova import anova_lm\n",
    "import matplotlib.pyplot as plt\n",
    "import seaborn as sns\n",
    "from statsmodels.graphics.gofplots import ProbPlot\n",
    "#from statsmodels.graphics.factorplots import interaction_plot\n",
    "#import statsmodels.formula.api as smf\n",
    "#from statsmodels.graphics.gofplots import ProbPlot"
   ]
  },
  {
   "cell_type": "markdown",
   "metadata": {},
   "source": [
    "### Objective\n",
    "\n",
    "The purpose of this report is to analyze the dataset of crime rates in mayor cities in the U.S., registered in three different years: 2000, 2005, and 2010. These cities were grouped in Metropolitan Statistical Area (MSA). Crimes were grouped in violent and property and were reported in incident by 100,000 population. Within the first group of violent crimes, we can find four types of crimes: murders and nonnegligent manslaughter, forcible rape, robbery, and aggravated assault. The second group of property crimes, includes: burglary, larceny-theft and motor vehicle theft.<br><br>\n",
    "In this analysis, the variables that contribute the most to the rising crime rates were identified. The signifficance of the variation of crime rates over time were tested with ANOVA.\n",
    "\n",
    "### Data loading"
   ]
  },
  {
   "cell_type": "code",
   "execution_count": 858,
   "metadata": {},
   "outputs": [],
   "source": [
    "xls = pd.ExcelFile(\"dir-python/data/Crime_Major_Cities.xlsx\")\n",
    "crime00 = pd.read_excel(xls, 'Crime Rates 2000',skiprows=3)\n",
    "crime05 = pd.read_excel(xls, 'Crime Rates 2005',skiprows=3)\n",
    "crime10 = pd.read_excel(xls, 'Crime Rates 2010',skiprows=3)"
   ]
  },
  {
   "cell_type": "code",
   "execution_count": 408,
   "metadata": {},
   "outputs": [
    {
     "data": {
      "text/html": [
       "<div>\n",
       "<style scoped>\n",
       "    .dataframe tbody tr th:only-of-type {\n",
       "        vertical-align: middle;\n",
       "    }\n",
       "\n",
       "    .dataframe tbody tr th {\n",
       "        vertical-align: top;\n",
       "    }\n",
       "\n",
       "    .dataframe thead th {\n",
       "        text-align: right;\n",
       "    }\n",
       "</style>\n",
       "<table border=\"1\" class=\"dataframe\">\n",
       "  <thead>\n",
       "    <tr style=\"text-align: right;\">\n",
       "      <th></th>\n",
       "      <th>Unnamed: 0</th>\n",
       "      <th>Metropolitan Statistical Area</th>\n",
       "      <th>All Violent</th>\n",
       "      <th>Murder</th>\n",
       "      <th>Rape</th>\n",
       "      <th>Robbery</th>\n",
       "      <th>Assault</th>\n",
       "      <th>Unnamed: 7</th>\n",
       "      <th>All</th>\n",
       "      <th>Burglary</th>\n",
       "      <th>Larceny</th>\n",
       "      <th>Car Theft</th>\n",
       "      <th>Unnamed: 12</th>\n",
       "      <th>Violent crime</th>\n",
       "    </tr>\n",
       "  </thead>\n",
       "  <tbody>\n",
       "    <tr>\n",
       "      <th>0</th>\n",
       "      <td>NaN</td>\n",
       "      <td>Abilene, TX M.S.A.</td>\n",
       "      <td>343.0</td>\n",
       "      <td>0.8</td>\n",
       "      <td>40.8</td>\n",
       "      <td>84.0</td>\n",
       "      <td>217.4</td>\n",
       "      <td>NaN</td>\n",
       "      <td>3692.7</td>\n",
       "      <td>819.4</td>\n",
       "      <td>2683.4</td>\n",
       "      <td>189.9</td>\n",
       "      <td>NaN</td>\n",
       "      <td>Murder and nonnegligent manslaughter</td>\n",
       "    </tr>\n",
       "    <tr>\n",
       "      <th>1</th>\n",
       "      <td>NaN</td>\n",
       "      <td>Albany, GA M.S.A.</td>\n",
       "      <td>497.5</td>\n",
       "      <td>5.7</td>\n",
       "      <td>30.8</td>\n",
       "      <td>197.7</td>\n",
       "      <td>263.3</td>\n",
       "      <td>NaN</td>\n",
       "      <td>4993.4</td>\n",
       "      <td>1310.9</td>\n",
       "      <td>3398.9</td>\n",
       "      <td>283.6</td>\n",
       "      <td>NaN</td>\n",
       "      <td>Forcible rape</td>\n",
       "    </tr>\n",
       "    <tr>\n",
       "      <th>2</th>\n",
       "      <td>NaN</td>\n",
       "      <td>Albany-Schenectady-Troy, NY M.S.A.</td>\n",
       "      <td>309.1</td>\n",
       "      <td>2.5</td>\n",
       "      <td>21.0</td>\n",
       "      <td>95.5</td>\n",
       "      <td>190.1</td>\n",
       "      <td>NaN</td>\n",
       "      <td>2882.1</td>\n",
       "      <td>601.4</td>\n",
       "      <td>2140.6</td>\n",
       "      <td>140.1</td>\n",
       "      <td>NaN</td>\n",
       "      <td>Robbery</td>\n",
       "    </tr>\n",
       "  </tbody>\n",
       "</table>\n",
       "</div>"
      ],
      "text/plain": [
       "   Unnamed: 0       Metropolitan Statistical Area  All Violent  Murder  Rape  \\\n",
       "0         NaN                  Abilene, TX M.S.A.        343.0     0.8  40.8   \n",
       "1         NaN                   Albany, GA M.S.A.        497.5     5.7  30.8   \n",
       "2         NaN  Albany-Schenectady-Troy, NY M.S.A.        309.1     2.5  21.0   \n",
       "\n",
       "   Robbery  Assault  Unnamed: 7     All  Burglary  Larceny  Car Theft  \\\n",
       "0     84.0    217.4         NaN  3692.7     819.4   2683.4      189.9   \n",
       "1    197.7    263.3         NaN  4993.4    1310.9   3398.9      283.6   \n",
       "2     95.5    190.1         NaN  2882.1     601.4   2140.6      140.1   \n",
       "\n",
       "   Unnamed: 12                         Violent crime  \n",
       "0          NaN  Murder and nonnegligent manslaughter  \n",
       "1          NaN                         Forcible rape  \n",
       "2          NaN                               Robbery  "
      ]
     },
     "execution_count": 408,
     "metadata": {},
     "output_type": "execute_result"
    }
   ],
   "source": [
    "crime00.head(3)"
   ]
  },
  {
   "cell_type": "code",
   "execution_count": 409,
   "metadata": {},
   "outputs": [
    {
     "data": {
      "text/html": [
       "<div>\n",
       "<style scoped>\n",
       "    .dataframe tbody tr th:only-of-type {\n",
       "        vertical-align: middle;\n",
       "    }\n",
       "\n",
       "    .dataframe tbody tr th {\n",
       "        vertical-align: top;\n",
       "    }\n",
       "\n",
       "    .dataframe thead th {\n",
       "        text-align: right;\n",
       "    }\n",
       "</style>\n",
       "<table border=\"1\" class=\"dataframe\">\n",
       "  <thead>\n",
       "    <tr style=\"text-align: right;\">\n",
       "      <th></th>\n",
       "      <th>Unnamed: 0</th>\n",
       "      <th>Metropolitan Statistical Area</th>\n",
       "      <th>All Violent</th>\n",
       "      <th>Murder</th>\n",
       "      <th>Rape</th>\n",
       "      <th>Robbery</th>\n",
       "      <th>Assault</th>\n",
       "      <th>Unnamed: 7</th>\n",
       "      <th>All Property</th>\n",
       "      <th>Burglary</th>\n",
       "      <th>Larceny</th>\n",
       "      <th>Car Theft</th>\n",
       "      <th>Unnamed: 12</th>\n",
       "      <th>Violent crime</th>\n",
       "    </tr>\n",
       "  </thead>\n",
       "  <tbody>\n",
       "    <tr>\n",
       "      <th>0</th>\n",
       "      <td>NaN</td>\n",
       "      <td>Abilene, TX M.S.A.</td>\n",
       "      <td>397.2</td>\n",
       "      <td>4.3</td>\n",
       "      <td>50.9</td>\n",
       "      <td>96.8</td>\n",
       "      <td>245.2</td>\n",
       "      <td>NaN</td>\n",
       "      <td>3845.5</td>\n",
       "      <td>1097.9</td>\n",
       "      <td>2529.7</td>\n",
       "      <td>217.8</td>\n",
       "      <td>NaN</td>\n",
       "      <td>Murder and nonnegligent manslaughter</td>\n",
       "    </tr>\n",
       "    <tr>\n",
       "      <th>1</th>\n",
       "      <td>NaN</td>\n",
       "      <td>Akron, OH M.S.A.</td>\n",
       "      <td>266.4</td>\n",
       "      <td>5.4</td>\n",
       "      <td>47.3</td>\n",
       "      <td>116.6</td>\n",
       "      <td>97.1</td>\n",
       "      <td>NaN</td>\n",
       "      <td>3662.1</td>\n",
       "      <td>854.5</td>\n",
       "      <td>2504.2</td>\n",
       "      <td>303.4</td>\n",
       "      <td>NaN</td>\n",
       "      <td>Forcible rape</td>\n",
       "    </tr>\n",
       "    <tr>\n",
       "      <th>2</th>\n",
       "      <td>NaN</td>\n",
       "      <td>Albany, GA M.S.A.</td>\n",
       "      <td>374.8</td>\n",
       "      <td>4.8</td>\n",
       "      <td>30.5</td>\n",
       "      <td>139.3</td>\n",
       "      <td>200.3</td>\n",
       "      <td>NaN</td>\n",
       "      <td>4057.2</td>\n",
       "      <td>1306.8</td>\n",
       "      <td>2502.3</td>\n",
       "      <td>248.1</td>\n",
       "      <td>NaN</td>\n",
       "      <td>Robbery</td>\n",
       "    </tr>\n",
       "  </tbody>\n",
       "</table>\n",
       "</div>"
      ],
      "text/plain": [
       "   Unnamed: 0 Metropolitan Statistical Area  All Violent  Murder  Rape  \\\n",
       "0         NaN            Abilene, TX M.S.A.        397.2     4.3  50.9   \n",
       "1         NaN              Akron, OH M.S.A.        266.4     5.4  47.3   \n",
       "2         NaN             Albany, GA M.S.A.        374.8     4.8  30.5   \n",
       "\n",
       "   Robbery  Assault  Unnamed: 7  All Property  Burglary  Larceny  Car Theft  \\\n",
       "0     96.8    245.2         NaN        3845.5    1097.9   2529.7      217.8   \n",
       "1    116.6     97.1         NaN        3662.1     854.5   2504.2      303.4   \n",
       "2    139.3    200.3         NaN        4057.2    1306.8   2502.3      248.1   \n",
       "\n",
       "   Unnamed: 12                         Violent crime  \n",
       "0          NaN  Murder and nonnegligent manslaughter  \n",
       "1          NaN                         Forcible rape  \n",
       "2          NaN                               Robbery  "
      ]
     },
     "execution_count": 409,
     "metadata": {},
     "output_type": "execute_result"
    }
   ],
   "source": [
    "crime05.head(3)"
   ]
  },
  {
   "cell_type": "code",
   "execution_count": 410,
   "metadata": {},
   "outputs": [
    {
     "data": {
      "text/html": [
       "<div>\n",
       "<style scoped>\n",
       "    .dataframe tbody tr th:only-of-type {\n",
       "        vertical-align: middle;\n",
       "    }\n",
       "\n",
       "    .dataframe tbody tr th {\n",
       "        vertical-align: top;\n",
       "    }\n",
       "\n",
       "    .dataframe thead th {\n",
       "        text-align: right;\n",
       "    }\n",
       "</style>\n",
       "<table border=\"1\" class=\"dataframe\">\n",
       "  <thead>\n",
       "    <tr style=\"text-align: right;\">\n",
       "      <th></th>\n",
       "      <th>Unnamed: 0</th>\n",
       "      <th>Metropolitan Statistical Area</th>\n",
       "      <th>All Violent</th>\n",
       "      <th>Murder</th>\n",
       "      <th>Rape</th>\n",
       "      <th>Robbery</th>\n",
       "      <th>Assault</th>\n",
       "      <th>Unnamed: 7</th>\n",
       "      <th>All Property</th>\n",
       "      <th>Burglary</th>\n",
       "      <th>Larceny</th>\n",
       "      <th>Car Theft</th>\n",
       "      <th>Unnamed: 12</th>\n",
       "      <th>Definitions</th>\n",
       "    </tr>\n",
       "  </thead>\n",
       "  <tbody>\n",
       "    <tr>\n",
       "      <th>0</th>\n",
       "      <td>NaN</td>\n",
       "      <td>Abilene, TX M.S.A.</td>\n",
       "      <td>423.0</td>\n",
       "      <td>3.1</td>\n",
       "      <td>48.9</td>\n",
       "      <td>72.7</td>\n",
       "      <td>298.3</td>\n",
       "      <td>NaN</td>\n",
       "      <td>3617.3</td>\n",
       "      <td>1009.0</td>\n",
       "      <td>2459.8</td>\n",
       "      <td>148.5</td>\n",
       "      <td>NaN</td>\n",
       "      <td>Violent crime</td>\n",
       "    </tr>\n",
       "    <tr>\n",
       "      <th>1</th>\n",
       "      <td>NaN</td>\n",
       "      <td>Akron, OH M.S.A.</td>\n",
       "      <td>304.7</td>\n",
       "      <td>3.7</td>\n",
       "      <td>40.9</td>\n",
       "      <td>105.1</td>\n",
       "      <td>155.0</td>\n",
       "      <td>NaN</td>\n",
       "      <td>3185.6</td>\n",
       "      <td>947.7</td>\n",
       "      <td>2074.5</td>\n",
       "      <td>163.3</td>\n",
       "      <td>NaN</td>\n",
       "      <td>Murder and nonnegligent manslaughter</td>\n",
       "    </tr>\n",
       "    <tr>\n",
       "      <th>2</th>\n",
       "      <td>NaN</td>\n",
       "      <td>Albany, GA M.S.A.</td>\n",
       "      <td>566.0</td>\n",
       "      <td>8.7</td>\n",
       "      <td>24.9</td>\n",
       "      <td>150.4</td>\n",
       "      <td>382.1</td>\n",
       "      <td>NaN</td>\n",
       "      <td>4512.6</td>\n",
       "      <td>1417.8</td>\n",
       "      <td>2803.4</td>\n",
       "      <td>291.4</td>\n",
       "      <td>NaN</td>\n",
       "      <td>Forcible rape</td>\n",
       "    </tr>\n",
       "  </tbody>\n",
       "</table>\n",
       "</div>"
      ],
      "text/plain": [
       "   Unnamed: 0 Metropolitan Statistical Area  All Violent  Murder  Rape  \\\n",
       "0         NaN            Abilene, TX M.S.A.        423.0     3.1  48.9   \n",
       "1         NaN              Akron, OH M.S.A.        304.7     3.7  40.9   \n",
       "2         NaN             Albany, GA M.S.A.        566.0     8.7  24.9   \n",
       "\n",
       "   Robbery  Assault  Unnamed: 7  All Property  Burglary  Larceny  Car Theft  \\\n",
       "0     72.7    298.3         NaN        3617.3    1009.0   2459.8      148.5   \n",
       "1    105.1    155.0         NaN        3185.6     947.7   2074.5      163.3   \n",
       "2    150.4    382.1         NaN        4512.6    1417.8   2803.4      291.4   \n",
       "\n",
       "   Unnamed: 12                           Definitions  \n",
       "0          NaN                         Violent crime  \n",
       "1          NaN  Murder and nonnegligent manslaughter  \n",
       "2          NaN                         Forcible rape  "
      ]
     },
     "execution_count": 410,
     "metadata": {},
     "output_type": "execute_result"
    }
   ],
   "source": [
    "crime10.head(3)"
   ]
  },
  {
   "cell_type": "code",
   "execution_count": 411,
   "metadata": {},
   "outputs": [
    {
     "name": "stdout",
     "output_type": "stream",
     "text": [
      "<class 'pandas.core.frame.DataFrame'>\n",
      "RangeIndex: 262 entries, 0 to 261\n",
      "Data columns (total 14 columns):\n",
      "Unnamed: 0                       0 non-null float64\n",
      "Metropolitan Statistical Area    262 non-null object\n",
      "All Violent                      255 non-null float64\n",
      "Murder                           250 non-null float64\n",
      "Rape                             260 non-null float64\n",
      "Robbery                          262 non-null float64\n",
      "Assault                          257 non-null float64\n",
      "Unnamed: 7                       0 non-null float64\n",
      "All                              261 non-null float64\n",
      "Burglary                         262 non-null float64\n",
      "Larceny                          262 non-null float64\n",
      "Car Theft                        261 non-null float64\n",
      "Unnamed: 12                      0 non-null float64\n",
      "Violent crime                    8 non-null object\n",
      "dtypes: float64(12), object(2)\n",
      "memory usage: 28.7+ KB\n"
     ]
    }
   ],
   "source": [
    "crime00.info()"
   ]
  },
  {
   "cell_type": "code",
   "execution_count": 412,
   "metadata": {},
   "outputs": [
    {
     "name": "stdout",
     "output_type": "stream",
     "text": [
      "<class 'pandas.core.frame.DataFrame'>\n",
      "RangeIndex: 350 entries, 0 to 349\n",
      "Data columns (total 14 columns):\n",
      "Unnamed: 0                       0 non-null float64\n",
      "Metropolitan Statistical Area    350 non-null object\n",
      "All Violent                      350 non-null float64\n",
      "Murder                           350 non-null float64\n",
      "Rape                             350 non-null float64\n",
      "Robbery                          350 non-null float64\n",
      "Assault                          350 non-null float64\n",
      "Unnamed: 7                       0 non-null float64\n",
      "All Property                     350 non-null float64\n",
      "Burglary                         350 non-null float64\n",
      "Larceny                          350 non-null float64\n",
      "Car Theft                        350 non-null float64\n",
      "Unnamed: 12                      0 non-null float64\n",
      "Violent crime                    8 non-null object\n",
      "dtypes: float64(12), object(2)\n",
      "memory usage: 38.4+ KB\n"
     ]
    }
   ],
   "source": [
    "crime05.info()"
   ]
  },
  {
   "cell_type": "code",
   "execution_count": 413,
   "metadata": {},
   "outputs": [
    {
     "name": "stdout",
     "output_type": "stream",
     "text": [
      "<class 'pandas.core.frame.DataFrame'>\n",
      "RangeIndex: 365 entries, 0 to 364\n",
      "Data columns (total 14 columns):\n",
      "Unnamed: 0                       0 non-null float64\n",
      "Metropolitan Statistical Area    365 non-null object\n",
      "All Violent                      356 non-null float64\n",
      "Murder                           365 non-null float64\n",
      "Rape                             358 non-null float64\n",
      "Robbery                          365 non-null float64\n",
      "Assault                          363 non-null float64\n",
      "Unnamed: 7                       0 non-null float64\n",
      "All Property                     361 non-null float64\n",
      "Burglary                         364 non-null float64\n",
      "Larceny                          363 non-null float64\n",
      "Car Theft                        364 non-null float64\n",
      "Unnamed: 12                      0 non-null float64\n",
      "Definitions                      9 non-null object\n",
      "dtypes: float64(12), object(2)\n",
      "memory usage: 40.0+ KB\n"
     ]
    }
   ],
   "source": [
    "crime10.info()"
   ]
  },
  {
   "cell_type": "markdown",
   "metadata": {},
   "source": [
    "### Data cleaning and data wrangling\n",
    "Dropping columns that would not be used."
   ]
  },
  {
   "cell_type": "code",
   "execution_count": 859,
   "metadata": {},
   "outputs": [],
   "source": [
    "crime00.drop([\"Unnamed: 0\", \"Unnamed: 7\", \"Unnamed: 12\", \"Violent crime\"],axis=1, inplace = True)\n",
    "crime00.rename(columns={'Metropolitan Statistical Area':'MSA','All':'Property', 'All Violent':'Violent'}, inplace=True) #changing names\n",
    "crime05.drop([\"Unnamed: 0\", \"Unnamed: 7\", \"Unnamed: 12\", \"Violent crime\"],axis=1, inplace = True)\n",
    "crime05.rename(columns={'Metropolitan Statistical Area':'MSA','All Property':'Property', 'All Violent':'Violent'}, inplace=True) #changing names\n",
    "crime10.drop([\"Unnamed: 0\", \"Unnamed: 7\", \"Unnamed: 12\", \"Definitions\"],axis=1, inplace = True)\n",
    "crime10.rename(columns={'Metropolitan Statistical Area':'MSA','All Property':'Property', 'All Violent':'Violent'}, inplace=True) #changing names"
   ]
  },
  {
   "cell_type": "markdown",
   "metadata": {},
   "source": [
    "Adding column year in each dataset."
   ]
  },
  {
   "cell_type": "code",
   "execution_count": 860,
   "metadata": {},
   "outputs": [],
   "source": [
    "crime00[\"year\"]=2000\n",
    "crime05[\"year\"]=2005\n",
    "crime10[\"year\"]=2010"
   ]
  },
  {
   "cell_type": "markdown",
   "metadata": {},
   "source": [
    "Dropping missing values."
   ]
  },
  {
   "cell_type": "code",
   "execution_count": 861,
   "metadata": {},
   "outputs": [],
   "source": [
    "crime00 = crime00.dropna()\n",
    "crime05 = crime05.dropna()\n",
    "crime10 = crime10.dropna()"
   ]
  },
  {
   "cell_type": "markdown",
   "metadata": {},
   "source": [
    "Concatenating the three years in one dataframe called \"crime\"."
   ]
  },
  {
   "cell_type": "code",
   "execution_count": 862,
   "metadata": {},
   "outputs": [
    {
     "name": "stdout",
     "output_type": "stream",
     "text": [
      "<class 'pandas.core.frame.DataFrame'>\n",
      "Int64Index: 944 entries, 0 to 364\n",
      "Data columns (total 11 columns):\n",
      "MSA          944 non-null object\n",
      "Violent      944 non-null float64\n",
      "Murder       944 non-null float64\n",
      "Rape         944 non-null float64\n",
      "Robbery      944 non-null float64\n",
      "Assault      944 non-null float64\n",
      "Property     944 non-null float64\n",
      "Burglary     944 non-null float64\n",
      "Larceny      944 non-null float64\n",
      "Car Theft    944 non-null float64\n",
      "year         944 non-null int64\n",
      "dtypes: float64(9), int64(1), object(1)\n",
      "memory usage: 88.5+ KB\n",
      "None\n"
     ]
    }
   ],
   "source": [
    "crimes = [crime00, crime05, crime10]\n",
    "crime = pd.concat(crimes)\n",
    "print(crime.info())"
   ]
  },
  {
   "cell_type": "code",
   "execution_count": 863,
   "metadata": {},
   "outputs": [],
   "source": [
    "crime['year'] = crime.year.astype(object)"
   ]
  },
  {
   "cell_type": "code",
   "execution_count": 1008,
   "metadata": {},
   "outputs": [
    {
     "data": {
      "text/html": [
       "<div>\n",
       "<style scoped>\n",
       "    .dataframe tbody tr th:only-of-type {\n",
       "        vertical-align: middle;\n",
       "    }\n",
       "\n",
       "    .dataframe tbody tr th {\n",
       "        vertical-align: top;\n",
       "    }\n",
       "\n",
       "    .dataframe thead th {\n",
       "        text-align: right;\n",
       "    }\n",
       "</style>\n",
       "<table border=\"1\" class=\"dataframe\">\n",
       "  <thead>\n",
       "    <tr style=\"text-align: right;\">\n",
       "      <th></th>\n",
       "      <th>Violent</th>\n",
       "      <th>Murder</th>\n",
       "      <th>Rape</th>\n",
       "      <th>Robbery</th>\n",
       "      <th>Assault</th>\n",
       "      <th>Property</th>\n",
       "      <th>Burglary</th>\n",
       "      <th>Larceny</th>\n",
       "      <th>Car Theft</th>\n",
       "    </tr>\n",
       "  </thead>\n",
       "  <tbody>\n",
       "    <tr>\n",
       "      <th>count</th>\n",
       "      <td>944.000000</td>\n",
       "      <td>944.000000</td>\n",
       "      <td>944.000000</td>\n",
       "      <td>944.000000</td>\n",
       "      <td>944.000000</td>\n",
       "      <td>944.000000</td>\n",
       "      <td>944.000000</td>\n",
       "      <td>944.000000</td>\n",
       "      <td>944.000000</td>\n",
       "    </tr>\n",
       "    <tr>\n",
       "      <th>mean</th>\n",
       "      <td>428.275847</td>\n",
       "      <td>4.427754</td>\n",
       "      <td>34.788665</td>\n",
       "      <td>104.510381</td>\n",
       "      <td>284.692055</td>\n",
       "      <td>3545.461017</td>\n",
       "      <td>789.984746</td>\n",
       "      <td>2476.911970</td>\n",
       "      <td>291.087076</td>\n",
       "    </tr>\n",
       "    <tr>\n",
       "      <th>std</th>\n",
       "      <td>208.931459</td>\n",
       "      <td>3.085229</td>\n",
       "      <td>16.688103</td>\n",
       "      <td>68.324366</td>\n",
       "      <td>157.494840</td>\n",
       "      <td>1148.500304</td>\n",
       "      <td>333.797828</td>\n",
       "      <td>783.399389</td>\n",
       "      <td>204.418238</td>\n",
       "    </tr>\n",
       "    <tr>\n",
       "      <th>min</th>\n",
       "      <td>0.000000</td>\n",
       "      <td>0.000000</td>\n",
       "      <td>1.800000</td>\n",
       "      <td>3.900000</td>\n",
       "      <td>0.000000</td>\n",
       "      <td>0.000000</td>\n",
       "      <td>170.600000</td>\n",
       "      <td>917.300000</td>\n",
       "      <td>0.000000</td>\n",
       "    </tr>\n",
       "    <tr>\n",
       "      <th>25%</th>\n",
       "      <td>269.275000</td>\n",
       "      <td>2.100000</td>\n",
       "      <td>23.700000</td>\n",
       "      <td>52.250000</td>\n",
       "      <td>167.800000</td>\n",
       "      <td>2621.900000</td>\n",
       "      <td>519.175000</td>\n",
       "      <td>1852.475000</td>\n",
       "      <td>148.350000</td>\n",
       "    </tr>\n",
       "    <tr>\n",
       "      <th>50%</th>\n",
       "      <td>398.350000</td>\n",
       "      <td>3.800000</td>\n",
       "      <td>31.850000</td>\n",
       "      <td>90.850000</td>\n",
       "      <td>257.550000</td>\n",
       "      <td>3499.100000</td>\n",
       "      <td>752.800000</td>\n",
       "      <td>2387.150000</td>\n",
       "      <td>229.300000</td>\n",
       "    </tr>\n",
       "    <tr>\n",
       "      <th>75%</th>\n",
       "      <td>548.300000</td>\n",
       "      <td>6.000000</td>\n",
       "      <td>42.700000</td>\n",
       "      <td>141.225000</td>\n",
       "      <td>369.500000</td>\n",
       "      <td>4288.450000</td>\n",
       "      <td>992.600000</td>\n",
       "      <td>2993.525000</td>\n",
       "      <td>380.450000</td>\n",
       "    </tr>\n",
       "    <tr>\n",
       "      <th>max</th>\n",
       "      <td>1443.600000</td>\n",
       "      <td>20.400000</td>\n",
       "      <td>193.200000</td>\n",
       "      <td>401.000000</td>\n",
       "      <td>1029.000000</td>\n",
       "      <td>8120.100000</td>\n",
       "      <td>2179.000000</td>\n",
       "      <td>6579.400000</td>\n",
       "      <td>1409.300000</td>\n",
       "    </tr>\n",
       "  </tbody>\n",
       "</table>\n",
       "</div>"
      ],
      "text/plain": [
       "           Violent      Murder        Rape     Robbery      Assault  \\\n",
       "count   944.000000  944.000000  944.000000  944.000000   944.000000   \n",
       "mean    428.275847    4.427754   34.788665  104.510381   284.692055   \n",
       "std     208.931459    3.085229   16.688103   68.324366   157.494840   \n",
       "min       0.000000    0.000000    1.800000    3.900000     0.000000   \n",
       "25%     269.275000    2.100000   23.700000   52.250000   167.800000   \n",
       "50%     398.350000    3.800000   31.850000   90.850000   257.550000   \n",
       "75%     548.300000    6.000000   42.700000  141.225000   369.500000   \n",
       "max    1443.600000   20.400000  193.200000  401.000000  1029.000000   \n",
       "\n",
       "          Property     Burglary      Larceny    Car Theft  \n",
       "count   944.000000   944.000000   944.000000   944.000000  \n",
       "mean   3545.461017   789.984746  2476.911970   291.087076  \n",
       "std    1148.500304   333.797828   783.399389   204.418238  \n",
       "min       0.000000   170.600000   917.300000     0.000000  \n",
       "25%    2621.900000   519.175000  1852.475000   148.350000  \n",
       "50%    3499.100000   752.800000  2387.150000   229.300000  \n",
       "75%    4288.450000   992.600000  2993.525000   380.450000  \n",
       "max    8120.100000  2179.000000  6579.400000  1409.300000  "
      ]
     },
     "execution_count": 1008,
     "metadata": {},
     "output_type": "execute_result"
    }
   ],
   "source": [
    "crime.describe()"
   ]
  },
  {
   "cell_type": "markdown",
   "metadata": {},
   "source": [
    "### Exploratory Data Analysis (EDA)"
   ]
  },
  {
   "cell_type": "code",
   "execution_count": 1016,
   "metadata": {},
   "outputs": [
    {
     "data": {
      "text/html": [
       "<div>\n",
       "<style scoped>\n",
       "    .dataframe tbody tr th:only-of-type {\n",
       "        vertical-align: middle;\n",
       "    }\n",
       "\n",
       "    .dataframe tbody tr th {\n",
       "        vertical-align: top;\n",
       "    }\n",
       "\n",
       "    .dataframe thead tr th {\n",
       "        text-align: left;\n",
       "    }\n",
       "\n",
       "    .dataframe thead tr:last-of-type th {\n",
       "        text-align: right;\n",
       "    }\n",
       "</style>\n",
       "<table border=\"1\" class=\"dataframe\">\n",
       "  <thead>\n",
       "    <tr>\n",
       "      <th></th>\n",
       "      <th colspan=\"4\" halign=\"left\">Violent</th>\n",
       "      <th colspan=\"4\" halign=\"left\">Murder</th>\n",
       "      <th colspan=\"2\" halign=\"left\">Rape</th>\n",
       "      <th>...</th>\n",
       "      <th colspan=\"2\" halign=\"left\">Burglary</th>\n",
       "      <th colspan=\"4\" halign=\"left\">Larceny</th>\n",
       "      <th colspan=\"4\" halign=\"left\">Car Theft</th>\n",
       "    </tr>\n",
       "    <tr>\n",
       "      <th></th>\n",
       "      <th>min</th>\n",
       "      <th>mean</th>\n",
       "      <th>std</th>\n",
       "      <th>max</th>\n",
       "      <th>min</th>\n",
       "      <th>mean</th>\n",
       "      <th>std</th>\n",
       "      <th>max</th>\n",
       "      <th>min</th>\n",
       "      <th>mean</th>\n",
       "      <th>...</th>\n",
       "      <th>std</th>\n",
       "      <th>max</th>\n",
       "      <th>min</th>\n",
       "      <th>mean</th>\n",
       "      <th>std</th>\n",
       "      <th>max</th>\n",
       "      <th>min</th>\n",
       "      <th>mean</th>\n",
       "      <th>std</th>\n",
       "      <th>max</th>\n",
       "    </tr>\n",
       "    <tr>\n",
       "      <th>year</th>\n",
       "      <th></th>\n",
       "      <th></th>\n",
       "      <th></th>\n",
       "      <th></th>\n",
       "      <th></th>\n",
       "      <th></th>\n",
       "      <th></th>\n",
       "      <th></th>\n",
       "      <th></th>\n",
       "      <th></th>\n",
       "      <th></th>\n",
       "      <th></th>\n",
       "      <th></th>\n",
       "      <th></th>\n",
       "      <th></th>\n",
       "      <th></th>\n",
       "      <th></th>\n",
       "      <th></th>\n",
       "      <th></th>\n",
       "      <th></th>\n",
       "      <th></th>\n",
       "    </tr>\n",
       "  </thead>\n",
       "  <tbody>\n",
       "    <tr>\n",
       "      <th>2000</th>\n",
       "      <td>94.5</td>\n",
       "      <td>468.154132</td>\n",
       "      <td>231.050132</td>\n",
       "      <td>1443.6</td>\n",
       "      <td>0.4</td>\n",
       "      <td>4.588017</td>\n",
       "      <td>3.239599</td>\n",
       "      <td>20.4</td>\n",
       "      <td>6.9</td>\n",
       "      <td>37.327686</td>\n",
       "      <td>...</td>\n",
       "      <td>332.819550</td>\n",
       "      <td>2085.1</td>\n",
       "      <td>1014.2</td>\n",
       "      <td>2805.591736</td>\n",
       "      <td>869.230400</td>\n",
       "      <td>6579.4</td>\n",
       "      <td>68.7</td>\n",
       "      <td>352.096694</td>\n",
       "      <td>204.239857</td>\n",
       "      <td>1064.1</td>\n",
       "    </tr>\n",
       "    <tr>\n",
       "      <th>2005</th>\n",
       "      <td>0.0</td>\n",
       "      <td>436.783143</td>\n",
       "      <td>218.524367</td>\n",
       "      <td>1286.4</td>\n",
       "      <td>0.0</td>\n",
       "      <td>4.672000</td>\n",
       "      <td>3.270168</td>\n",
       "      <td>19.6</td>\n",
       "      <td>3.5</td>\n",
       "      <td>35.899714</td>\n",
       "      <td>...</td>\n",
       "      <td>332.535682</td>\n",
       "      <td>2034.0</td>\n",
       "      <td>1162.2</td>\n",
       "      <td>2553.412286</td>\n",
       "      <td>775.875285</td>\n",
       "      <td>5533.6</td>\n",
       "      <td>0.0</td>\n",
       "      <td>338.622000</td>\n",
       "      <td>234.188411</td>\n",
       "      <td>1409.3</td>\n",
       "    </tr>\n",
       "    <tr>\n",
       "      <th>2010</th>\n",
       "      <td>63.7</td>\n",
       "      <td>392.400568</td>\n",
       "      <td>175.164641</td>\n",
       "      <td>1111.2</td>\n",
       "      <td>0.0</td>\n",
       "      <td>4.074716</td>\n",
       "      <td>2.744383</td>\n",
       "      <td>18.2</td>\n",
       "      <td>1.8</td>\n",
       "      <td>31.938352</td>\n",
       "      <td>...</td>\n",
       "      <td>335.630921</td>\n",
       "      <td>2179.0</td>\n",
       "      <td>917.3</td>\n",
       "      <td>2174.878977</td>\n",
       "      <td>599.734490</td>\n",
       "      <td>3857.9</td>\n",
       "      <td>13.1</td>\n",
       "      <td>201.878125</td>\n",
       "      <td>127.638738</td>\n",
       "      <td>869.7</td>\n",
       "    </tr>\n",
       "  </tbody>\n",
       "</table>\n",
       "<p>3 rows × 36 columns</p>\n",
       "</div>"
      ],
      "text/plain": [
       "     Violent                                 Murder                            \\\n",
       "         min        mean         std     max    min      mean       std   max   \n",
       "year                                                                            \n",
       "2000    94.5  468.154132  231.050132  1443.6    0.4  4.588017  3.239599  20.4   \n",
       "2005     0.0  436.783143  218.524367  1286.4    0.0  4.672000  3.270168  19.6   \n",
       "2010    63.7  392.400568  175.164641  1111.2    0.0  4.074716  2.744383  18.2   \n",
       "\n",
       "     Rape              ...      Burglary         Larceny               \\\n",
       "      min       mean   ...           std     max     min         mean   \n",
       "year                   ...                                              \n",
       "2000  6.9  37.327686   ...    332.819550  2085.1  1014.2  2805.591736   \n",
       "2005  3.5  35.899714   ...    332.535682  2034.0  1162.2  2553.412286   \n",
       "2010  1.8  31.938352   ...    335.630921  2179.0   917.3  2174.878977   \n",
       "\n",
       "                         Car Theft                                  \n",
       "             std     max       min        mean         std     max  \n",
       "year                                                                \n",
       "2000  869.230400  6579.4      68.7  352.096694  204.239857  1064.1  \n",
       "2005  775.875285  5533.6       0.0  338.622000  234.188411  1409.3  \n",
       "2010  599.734490  3857.9      13.1  201.878125  127.638738   869.7  \n",
       "\n",
       "[3 rows x 36 columns]"
      ]
     },
     "execution_count": 1016,
     "metadata": {},
     "output_type": "execute_result"
    }
   ],
   "source": [
    "crime.groupby('year').describe().T\n",
    "crime.groupby(['year']).agg([min, np.mean, np.std, max])"
   ]
  },
  {
   "cell_type": "markdown",
   "metadata": {},
   "source": [
    "#### Crime rates (violent and property) by different years\n",
    "It seems that crime rate has decline over the years. "
   ]
  },
  {
   "cell_type": "code",
   "execution_count": 892,
   "metadata": {},
   "outputs": [
    {
     "data": {
      "image/png": "[encoded data removed]",
      "text/plain": [
       "<matplotlib.figure.Figure at 0x1c84773dd8>"
      ]
     },
     "metadata": {},
     "output_type": "display_data"
    }
   ],
   "source": [
    "f, axes = plt.subplots(1, 2, figsize=(13, 6))\n",
    "ax1= sns.boxplot(x=\"year\", y='Property', data=crime, palette=\"Set2\", ax=axes[0])\n",
    "ax2= sns.boxplot(x=\"year\", y='Violent', data=crime, palette=\"Set3\", ax=axes[1])\n",
    "ax1.set(ylabel='Property crimes per 100,000 population')\n",
    "ax2.set(ylabel='Violent crimes per 100,000 population');"
   ]
  },
  {
   "cell_type": "markdown",
   "metadata": {},
   "source": [
    "#### Variables contribution to the rising crime rates\n",
    "\n",
    "Correlation matrix"
   ]
  },
  {
   "cell_type": "code",
   "execution_count": 845,
   "metadata": {},
   "outputs": [
    {
     "data": {
      "image/png": "[encoded data removed]",
      "text/plain": [
       "<matplotlib.figure.Figure at 0x1c7c3f1390>"
      ]
     },
     "metadata": {},
     "output_type": "display_data"
    }
   ],
   "source": [
    "plt.figure(figsize=(10, 8))\n",
    "corr = crime.corr()\n",
    "sns.heatmap(corr, annot=True);"
   ]
  },
  {
   "cell_type": "markdown",
   "metadata": {},
   "source": [
    "Assaults have a strong possitive relashiondhip with violent crime rates (Pearson correlation coefficient of 0.96), while Larceries have a strong possitive relashiondhip with property crimes (Pearson correlation coefficient of 0.93).\n",
    "Let's have a closer look to these two variables."
   ]
  },
  {
   "cell_type": "code",
   "execution_count": 878,
   "metadata": {},
   "outputs": [
    {
     "data": {
      "text/html": [
       "<div>\n",
       "<style scoped>\n",
       "    .dataframe tbody tr th:only-of-type {\n",
       "        vertical-align: middle;\n",
       "    }\n",
       "\n",
       "    .dataframe tbody tr th {\n",
       "        vertical-align: top;\n",
       "    }\n",
       "\n",
       "    .dataframe thead tr th {\n",
       "        text-align: left;\n",
       "    }\n",
       "\n",
       "    .dataframe thead tr:last-of-type th {\n",
       "        text-align: right;\n",
       "    }\n",
       "</style>\n",
       "<table border=\"1\" class=\"dataframe\">\n",
       "  <thead>\n",
       "    <tr>\n",
       "      <th></th>\n",
       "      <th colspan=\"8\" halign=\"left\">Assault</th>\n",
       "      <th colspan=\"8\" halign=\"left\">Larceny</th>\n",
       "    </tr>\n",
       "    <tr>\n",
       "      <th></th>\n",
       "      <th>count</th>\n",
       "      <th>mean</th>\n",
       "      <th>std</th>\n",
       "      <th>min</th>\n",
       "      <th>25%</th>\n",
       "      <th>50%</th>\n",
       "      <th>75%</th>\n",
       "      <th>max</th>\n",
       "      <th>count</th>\n",
       "      <th>mean</th>\n",
       "      <th>std</th>\n",
       "      <th>min</th>\n",
       "      <th>25%</th>\n",
       "      <th>50%</th>\n",
       "      <th>75%</th>\n",
       "      <th>max</th>\n",
       "    </tr>\n",
       "    <tr>\n",
       "      <th>year</th>\n",
       "      <th></th>\n",
       "      <th></th>\n",
       "      <th></th>\n",
       "      <th></th>\n",
       "      <th></th>\n",
       "      <th></th>\n",
       "      <th></th>\n",
       "      <th></th>\n",
       "      <th></th>\n",
       "      <th></th>\n",
       "      <th></th>\n",
       "      <th></th>\n",
       "      <th></th>\n",
       "      <th></th>\n",
       "      <th></th>\n",
       "      <th></th>\n",
       "    </tr>\n",
       "  </thead>\n",
       "  <tbody>\n",
       "    <tr>\n",
       "      <th>2000</th>\n",
       "      <td>242.0</td>\n",
       "      <td>310.787603</td>\n",
       "      <td>172.395111</td>\n",
       "      <td>47.0</td>\n",
       "      <td>177.875</td>\n",
       "      <td>272.90</td>\n",
       "      <td>408.050</td>\n",
       "      <td>1029.0</td>\n",
       "      <td>242.0</td>\n",
       "      <td>2805.591736</td>\n",
       "      <td>869.230400</td>\n",
       "      <td>1014.2</td>\n",
       "      <td>2114.225</td>\n",
       "      <td>2745.65</td>\n",
       "      <td>3372.825</td>\n",
       "      <td>6579.4</td>\n",
       "    </tr>\n",
       "    <tr>\n",
       "      <th>2005</th>\n",
       "      <td>350.0</td>\n",
       "      <td>290.002000</td>\n",
       "      <td>166.428393</td>\n",
       "      <td>0.0</td>\n",
       "      <td>164.725</td>\n",
       "      <td>257.65</td>\n",
       "      <td>369.275</td>\n",
       "      <td>1004.8</td>\n",
       "      <td>350.0</td>\n",
       "      <td>2553.412286</td>\n",
       "      <td>775.875285</td>\n",
       "      <td>1162.2</td>\n",
       "      <td>1915.700</td>\n",
       "      <td>2504.95</td>\n",
       "      <td>3078.275</td>\n",
       "      <td>5533.6</td>\n",
       "    </tr>\n",
       "    <tr>\n",
       "      <th>2010</th>\n",
       "      <td>352.0</td>\n",
       "      <td>261.471591</td>\n",
       "      <td>132.873333</td>\n",
       "      <td>9.9</td>\n",
       "      <td>164.700</td>\n",
       "      <td>245.70</td>\n",
       "      <td>336.800</td>\n",
       "      <td>703.1</td>\n",
       "      <td>352.0</td>\n",
       "      <td>2174.878977</td>\n",
       "      <td>599.734490</td>\n",
       "      <td>917.3</td>\n",
       "      <td>1697.150</td>\n",
       "      <td>2134.65</td>\n",
       "      <td>2558.675</td>\n",
       "      <td>3857.9</td>\n",
       "    </tr>\n",
       "  </tbody>\n",
       "</table>\n",
       "</div>"
      ],
      "text/plain": [
       "     Assault                                                                  \\\n",
       "       count        mean         std   min      25%     50%      75%     max   \n",
       "year                                                                           \n",
       "2000   242.0  310.787603  172.395111  47.0  177.875  272.90  408.050  1029.0   \n",
       "2005   350.0  290.002000  166.428393   0.0  164.725  257.65  369.275  1004.8   \n",
       "2010   352.0  261.471591  132.873333   9.9  164.700  245.70  336.800   703.1   \n",
       "\n",
       "     Larceny                                                                \\\n",
       "       count         mean         std     min       25%      50%       75%   \n",
       "year                                                                         \n",
       "2000   242.0  2805.591736  869.230400  1014.2  2114.225  2745.65  3372.825   \n",
       "2005   350.0  2553.412286  775.875285  1162.2  1915.700  2504.95  3078.275   \n",
       "2010   352.0  2174.878977  599.734490   917.3  1697.150  2134.65  2558.675   \n",
       "\n",
       "              \n",
       "         max  \n",
       "year          \n",
       "2000  6579.4  \n",
       "2005  5533.6  \n",
       "2010  3857.9  "
      ]
     },
     "execution_count": 878,
     "metadata": {},
     "output_type": "execute_result"
    }
   ],
   "source": [
    "summ = crime.groupby(['year']).describe()\n",
    "summ[['Assault','Larceny']]"
   ]
  },
  {
   "cell_type": "code",
   "execution_count": 623,
   "metadata": {},
   "outputs": [],
   "source": [
    "#plt.figure(figsize=(10, 7))\n",
    "\n",
    "#sns.distplot(crime00[\"Assault\"], hist=False, color=\"r\", label=\"Assault 2000\")\n",
    "#sns.distplot(crime05[\"Assault\"], hist=False, color=\"b\", label=\"Assault 2005\")\n",
    "#sns.distplot(crime10[\"Assault\"], hist=False, color=\"g\", label=\"Assault 2010\")\n",
    "\n",
    "#sns.distplot(crime00[\"Larceny\"], hist=False, color=\"pink\", label=\"Larceny 2000\")\n",
    "#sns.distplot(crime05[\"Larceny\"], hist=False, color=\"skyblue\", label=\"Larceny 2005\")\n",
    "#sns.distplot(crime10[\"Larceny\"], hist=False, color=\"olive\", label=\"Larceny 2010\", axlabel='Crime per 100,000');"
   ]
  },
  {
   "cell_type": "code",
   "execution_count": 847,
   "metadata": {},
   "outputs": [
    {
     "data": {
      "image/png": "[encoded data removed]",
      "text/plain": [
       "<matplotlib.figure.Figure at 0x1c7f720dd8>"
      ]
     },
     "metadata": {},
     "output_type": "display_data"
    }
   ],
   "source": [
    "sns.jointplot(\"Violent\", \"Assault\", data=crime, kind=\"reg\");"
   ]
  },
  {
   "cell_type": "code",
   "execution_count": 848,
   "metadata": {},
   "outputs": [
    {
     "data": {
      "image/png": "[encoded data removed]",
      "text/plain": [
       "<matplotlib.figure.Figure at 0x1c866c4940>"
      ]
     },
     "metadata": {},
     "output_type": "display_data"
    }
   ],
   "source": [
    "sns.jointplot(\"Property\", \"Larceny\", data=crime, kind=\"reg\");"
   ]
  },
  {
   "cell_type": "code",
   "execution_count": 1009,
   "metadata": {},
   "outputs": [
    {
     "data": {
      "text/html": [
       "<div>\n",
       "<style scoped>\n",
       "    .dataframe tbody tr th:only-of-type {\n",
       "        vertical-align: middle;\n",
       "    }\n",
       "\n",
       "    .dataframe tbody tr th {\n",
       "        vertical-align: top;\n",
       "    }\n",
       "\n",
       "    .dataframe thead th {\n",
       "        text-align: right;\n",
       "    }\n",
       "</style>\n",
       "<table border=\"1\" class=\"dataframe\">\n",
       "  <thead>\n",
       "    <tr style=\"text-align: right;\">\n",
       "      <th></th>\n",
       "      <th>year</th>\n",
       "      <th>2000</th>\n",
       "      <th>2005</th>\n",
       "      <th>2010</th>\n",
       "    </tr>\n",
       "  </thead>\n",
       "  <tbody>\n",
       "    <tr>\n",
       "      <th rowspan=\"8\" valign=\"top\">Violent</th>\n",
       "      <th>count</th>\n",
       "      <td>242.000000</td>\n",
       "      <td>350.000000</td>\n",
       "      <td>352.000000</td>\n",
       "    </tr>\n",
       "    <tr>\n",
       "      <th>mean</th>\n",
       "      <td>468.154132</td>\n",
       "      <td>436.783143</td>\n",
       "      <td>392.400568</td>\n",
       "    </tr>\n",
       "    <tr>\n",
       "      <th>std</th>\n",
       "      <td>231.050132</td>\n",
       "      <td>218.524367</td>\n",
       "      <td>175.164641</td>\n",
       "    </tr>\n",
       "    <tr>\n",
       "      <th>min</th>\n",
       "      <td>94.500000</td>\n",
       "      <td>0.000000</td>\n",
       "      <td>63.700000</td>\n",
       "    </tr>\n",
       "    <tr>\n",
       "      <th>25%</th>\n",
       "      <td>290.350000</td>\n",
       "      <td>278.950000</td>\n",
       "      <td>253.700000</td>\n",
       "    </tr>\n",
       "    <tr>\n",
       "      <th>50%</th>\n",
       "      <td>440.950000</td>\n",
       "      <td>406.050000</td>\n",
       "      <td>373.750000</td>\n",
       "    </tr>\n",
       "    <tr>\n",
       "      <th>75%</th>\n",
       "      <td>599.200000</td>\n",
       "      <td>558.225000</td>\n",
       "      <td>495.925000</td>\n",
       "    </tr>\n",
       "    <tr>\n",
       "      <th>max</th>\n",
       "      <td>1443.600000</td>\n",
       "      <td>1286.400000</td>\n",
       "      <td>1111.200000</td>\n",
       "    </tr>\n",
       "    <tr>\n",
       "      <th rowspan=\"8\" valign=\"top\">Property</th>\n",
       "      <th>count</th>\n",
       "      <td>242.000000</td>\n",
       "      <td>350.000000</td>\n",
       "      <td>352.000000</td>\n",
       "    </tr>\n",
       "    <tr>\n",
       "      <th>mean</th>\n",
       "      <td>3967.759091</td>\n",
       "      <td>3653.956286</td>\n",
       "      <td>3147.252273</td>\n",
       "    </tr>\n",
       "    <tr>\n",
       "      <th>std</th>\n",
       "      <td>1210.945177</td>\n",
       "      <td>1196.702944</td>\n",
       "      <td>905.147230</td>\n",
       "    </tr>\n",
       "    <tr>\n",
       "      <th>min</th>\n",
       "      <td>1502.200000</td>\n",
       "      <td>0.000000</td>\n",
       "      <td>1122.400000</td>\n",
       "    </tr>\n",
       "    <tr>\n",
       "      <th>25%</th>\n",
       "      <td>2996.575000</td>\n",
       "      <td>2703.750000</td>\n",
       "      <td>2471.525000</td>\n",
       "    </tr>\n",
       "    <tr>\n",
       "      <th>50%</th>\n",
       "      <td>3870.000000</td>\n",
       "      <td>3673.450000</td>\n",
       "      <td>3090.700000</td>\n",
       "    </tr>\n",
       "    <tr>\n",
       "      <th>75%</th>\n",
       "      <td>4897.750000</td>\n",
       "      <td>4496.575000</td>\n",
       "      <td>3747.900000</td>\n",
       "    </tr>\n",
       "    <tr>\n",
       "      <th>max</th>\n",
       "      <td>8120.100000</td>\n",
       "      <td>7601.900000</td>\n",
       "      <td>5824.600000</td>\n",
       "    </tr>\n",
       "  </tbody>\n",
       "</table>\n",
       "</div>"
      ],
      "text/plain": [
       "year                   2000         2005         2010\n",
       "Violent  count   242.000000   350.000000   352.000000\n",
       "         mean    468.154132   436.783143   392.400568\n",
       "         std     231.050132   218.524367   175.164641\n",
       "         min      94.500000     0.000000    63.700000\n",
       "         25%     290.350000   278.950000   253.700000\n",
       "         50%     440.950000   406.050000   373.750000\n",
       "         75%     599.200000   558.225000   495.925000\n",
       "         max    1443.600000  1286.400000  1111.200000\n",
       "Property count   242.000000   350.000000   352.000000\n",
       "         mean   3967.759091  3653.956286  3147.252273\n",
       "         std    1210.945177  1196.702944   905.147230\n",
       "         min    1502.200000     0.000000  1122.400000\n",
       "         25%    2996.575000  2703.750000  2471.525000\n",
       "         50%    3870.000000  3673.450000  3090.700000\n",
       "         75%    4897.750000  4496.575000  3747.900000\n",
       "         max    8120.100000  7601.900000  5824.600000"
      ]
     },
     "execution_count": 1009,
     "metadata": {},
     "output_type": "execute_result"
    }
   ],
   "source": [
    "summ = crime.groupby(['year']).describe()\n",
    "summ[['Violent','Property']].T"
   ]
  },
  {
   "cell_type": "markdown",
   "metadata": {},
   "source": [
    "#### Crime rate by cities and years\n",
    "\n",
    "Ordering cities by crime rate in descending order."
   ]
  },
  {
   "cell_type": "code",
   "execution_count": 989,
   "metadata": {},
   "outputs": [],
   "source": [
    "violent00 = crime00.sort_values('Violent').iloc[-10:,[0,2,3,4,5]]\n",
    "property00= crime00.sort_values('Property').iloc[-10:,[0,7,8,9]]"
   ]
  },
  {
   "cell_type": "code",
   "execution_count": 990,
   "metadata": {},
   "outputs": [],
   "source": [
    "violent05 = crime05.sort_values('Violent').iloc[-10:,[0,2,3,4,5]]\n",
    "property05= crime05.sort_values('Property').iloc[-10:,[0,7,8,9]]"
   ]
  },
  {
   "cell_type": "code",
   "execution_count": 991,
   "metadata": {},
   "outputs": [],
   "source": [
    "violent10 = crime10.sort_values('Violent').iloc[-10:,[0,2,3,4,5]]\n",
    "property10= crime10.sort_values('Property').iloc[-10:,[0,7,8,9]]"
   ]
  },
  {
   "cell_type": "markdown",
   "metadata": {},
   "source": [
    "##### Violent Crime rate by cities and years"
   ]
  },
  {
   "cell_type": "code",
   "execution_count": 992,
   "metadata": {},
   "outputs": [
    {
     "data": {
      "image/png": "[encoded data removed]",
      "text/plain": [
       "<matplotlib.figure.Figure at 0x1c7e2a7668>"
      ]
     },
     "metadata": {},
     "output_type": "display_data"
    }
   ],
   "source": [
    "violent00.plot.barh(x='MSA', stacked=True,figsize=(8,6))\n",
    "plt.legend(loc=(1,0))\n",
    "plt.title('Violent Crime Rate of MSA (2000)')\n",
    "plt.xlabel('Incidents per 100,000 polulation')\n",
    "plt.grid(True);"
   ]
  },
  {
   "cell_type": "code",
   "execution_count": 963,
   "metadata": {},
   "outputs": [
    {
     "data": {
      "text/html": [
       "<div>\n",
       "<style scoped>\n",
       "    .dataframe tbody tr th:only-of-type {\n",
       "        vertical-align: middle;\n",
       "    }\n",
       "\n",
       "    .dataframe tbody tr th {\n",
       "        vertical-align: top;\n",
       "    }\n",
       "\n",
       "    .dataframe thead th {\n",
       "        text-align: right;\n",
       "    }\n",
       "</style>\n",
       "<table border=\"1\" class=\"dataframe\">\n",
       "  <thead>\n",
       "    <tr style=\"text-align: right;\">\n",
       "      <th></th>\n",
       "      <th>MSA</th>\n",
       "      <th>Violent</th>\n",
       "      <th>Murder</th>\n",
       "      <th>Rape</th>\n",
       "      <th>Robbery</th>\n",
       "      <th>Assault</th>\n",
       "    </tr>\n",
       "  </thead>\n",
       "  <tbody>\n",
       "    <tr>\n",
       "      <th>139</th>\n",
       "      <td>Lubbock, TX M.S.A.</td>\n",
       "      <td>1093.6</td>\n",
       "      <td>5.5</td>\n",
       "      <td>64.3</td>\n",
       "      <td>106.6</td>\n",
       "      <td>917.2</td>\n",
       "    </tr>\n",
       "    <tr>\n",
       "      <th>149</th>\n",
       "      <td>Miami, FL M.S.A.</td>\n",
       "      <td>1207.4</td>\n",
       "      <td>8.6</td>\n",
       "      <td>47.6</td>\n",
       "      <td>397.1</td>\n",
       "      <td>754.2</td>\n",
       "    </tr>\n",
       "    <tr>\n",
       "      <th>178</th>\n",
       "      <td>Pine Bluff, AR M.S.A.</td>\n",
       "      <td>1443.6</td>\n",
       "      <td>16.5</td>\n",
       "      <td>81.5</td>\n",
       "      <td>316.6</td>\n",
       "      <td>1029.0</td>\n",
       "    </tr>\n",
       "  </tbody>\n",
       "</table>\n",
       "</div>"
      ],
      "text/plain": [
       "                       MSA  Violent  Murder  Rape  Robbery  Assault\n",
       "139     Lubbock, TX M.S.A.   1093.6     5.5  64.3    106.6    917.2\n",
       "149       Miami, FL M.S.A.   1207.4     8.6  47.6    397.1    754.2\n",
       "178  Pine Bluff, AR M.S.A.   1443.6    16.5  81.5    316.6   1029.0"
      ]
     },
     "execution_count": 963,
     "metadata": {},
     "output_type": "execute_result"
    }
   ],
   "source": [
    "# Selecting the 3 Metropolitan areas with highest violent crime rate in 2000\n",
    "crime00.sort_values('Violent').iloc[-3:,0:6]"
   ]
  },
  {
   "cell_type": "markdown",
   "metadata": {},
   "source": [
    "Pine Bluff, Miami and Lubbock are the metropolitan areas with highest violent crime rates in 2000."
   ]
  },
  {
   "cell_type": "code",
   "execution_count": 993,
   "metadata": {},
   "outputs": [
    {
     "data": {
      "image/png": "[encoded data removed]",
      "text/plain": [
       "<matplotlib.figure.Figure at 0x1c5be143c8>"
      ]
     },
     "metadata": {},
     "output_type": "display_data"
    }
   ],
   "source": [
    "violent05.plot.barh(x='MSA', stacked=True,figsize=(8,6))\n",
    "plt.legend(loc=(1,0))\n",
    "plt.title('Violent Crime Rate of MSA (2005)')\n",
    "plt.xlabel('Incidents per 100,000 polulation')\n",
    "plt.grid(True);"
   ]
  },
  {
   "cell_type": "code",
   "execution_count": 964,
   "metadata": {},
   "outputs": [
    {
     "data": {
      "text/html": [
       "<div>\n",
       "<style scoped>\n",
       "    .dataframe tbody tr th:only-of-type {\n",
       "        vertical-align: middle;\n",
       "    }\n",
       "\n",
       "    .dataframe tbody tr th {\n",
       "        vertical-align: top;\n",
       "    }\n",
       "\n",
       "    .dataframe thead th {\n",
       "        text-align: right;\n",
       "    }\n",
       "</style>\n",
       "<table border=\"1\" class=\"dataframe\">\n",
       "  <thead>\n",
       "    <tr style=\"text-align: right;\">\n",
       "      <th></th>\n",
       "      <th>MSA</th>\n",
       "      <th>Violent</th>\n",
       "      <th>Murder</th>\n",
       "      <th>Rape</th>\n",
       "      <th>Robbery</th>\n",
       "      <th>Assault</th>\n",
       "    </tr>\n",
       "  </thead>\n",
       "  <tbody>\n",
       "    <tr>\n",
       "      <th>194</th>\n",
       "      <td>Memphis, TN-MS-AR M.S.A.</td>\n",
       "      <td>1196.8</td>\n",
       "      <td>13.9</td>\n",
       "      <td>45.3</td>\n",
       "      <td>389.8</td>\n",
       "      <td>747.9</td>\n",
       "    </tr>\n",
       "    <tr>\n",
       "      <th>83</th>\n",
       "      <td>Detroit-Livonia-Dearborn, MI M.D.1</td>\n",
       "      <td>1250.7</td>\n",
       "      <td>19.5</td>\n",
       "      <td>49.1</td>\n",
       "      <td>401.0</td>\n",
       "      <td>781.1</td>\n",
       "    </tr>\n",
       "    <tr>\n",
       "      <th>105</th>\n",
       "      <td>Florence, SC M.S.A.</td>\n",
       "      <td>1286.4</td>\n",
       "      <td>8.0</td>\n",
       "      <td>51.0</td>\n",
       "      <td>222.6</td>\n",
       "      <td>1004.8</td>\n",
       "    </tr>\n",
       "  </tbody>\n",
       "</table>\n",
       "</div>"
      ],
      "text/plain": [
       "                                    MSA  Violent  Murder  Rape  Robbery  \\\n",
       "194            Memphis, TN-MS-AR M.S.A.   1196.8    13.9  45.3    389.8   \n",
       "83   Detroit-Livonia-Dearborn, MI M.D.1   1250.7    19.5  49.1    401.0   \n",
       "105                 Florence, SC M.S.A.   1286.4     8.0  51.0    222.6   \n",
       "\n",
       "     Assault  \n",
       "194    747.9  \n",
       "83     781.1  \n",
       "105   1004.8  "
      ]
     },
     "execution_count": 964,
     "metadata": {},
     "output_type": "execute_result"
    }
   ],
   "source": [
    "# Selecting the 3 Metropolitan areas with highest violent crime rate in 2005\n",
    "crime05.sort_values('Violent').iloc[-3:,0:6]"
   ]
  },
  {
   "cell_type": "markdown",
   "metadata": {},
   "source": [
    "Florence, Detroit-Livonia-Dearborn and Memphis are the metropolitan areas with highest violent crime rates in 2005."
   ]
  },
  {
   "cell_type": "code",
   "execution_count": 994,
   "metadata": {},
   "outputs": [
    {
     "data": {
      "image/png": "[encoded data removed]",
      "text/plain": [
       "<matplotlib.figure.Figure at 0x1c792b2780>"
      ]
     },
     "metadata": {},
     "output_type": "display_data"
    }
   ],
   "source": [
    "violent10.plot.barh(x='MSA', stacked=True,figsize=(8,6))\n",
    "plt.legend(loc=(1,0))\n",
    "plt.title('Violent Crime Rate of MSA (2010)')\n",
    "plt.xlabel('Incidents per 100,000 polulation')\n",
    "plt.grid(True);"
   ]
  },
  {
   "cell_type": "code",
   "execution_count": 965,
   "metadata": {},
   "outputs": [
    {
     "data": {
      "text/html": [
       "<div>\n",
       "<style scoped>\n",
       "    .dataframe tbody tr th:only-of-type {\n",
       "        vertical-align: middle;\n",
       "    }\n",
       "\n",
       "    .dataframe tbody tr th {\n",
       "        vertical-align: top;\n",
       "    }\n",
       "\n",
       "    .dataframe thead th {\n",
       "        text-align: right;\n",
       "    }\n",
       "</style>\n",
       "<table border=\"1\" class=\"dataframe\">\n",
       "  <thead>\n",
       "    <tr style=\"text-align: right;\">\n",
       "      <th></th>\n",
       "      <th>MSA</th>\n",
       "      <th>Violent</th>\n",
       "      <th>Murder</th>\n",
       "      <th>Rape</th>\n",
       "      <th>Robbery</th>\n",
       "      <th>Assault</th>\n",
       "    </tr>\n",
       "  </thead>\n",
       "  <tbody>\n",
       "    <tr>\n",
       "      <th>284</th>\n",
       "      <td>Saginaw-Saginaw Township North, MI M.S.A.</td>\n",
       "      <td>870.7</td>\n",
       "      <td>3.5</td>\n",
       "      <td>76.0</td>\n",
       "      <td>129.2</td>\n",
       "      <td>661.9</td>\n",
       "    </tr>\n",
       "    <tr>\n",
       "      <th>204</th>\n",
       "      <td>Memphis, TN-MS-AR M.S.A.</td>\n",
       "      <td>1006.5</td>\n",
       "      <td>8.6</td>\n",
       "      <td>46.1</td>\n",
       "      <td>278.1</td>\n",
       "      <td>673.6</td>\n",
       "    </tr>\n",
       "    <tr>\n",
       "      <th>91</th>\n",
       "      <td>Detroit-Livonia-Dearborn, MI M.D.</td>\n",
       "      <td>1111.2</td>\n",
       "      <td>18.2</td>\n",
       "      <td>41.9</td>\n",
       "      <td>348.1</td>\n",
       "      <td>703.1</td>\n",
       "    </tr>\n",
       "  </tbody>\n",
       "</table>\n",
       "</div>"
      ],
      "text/plain": [
       "                                           MSA  Violent  Murder  Rape  \\\n",
       "284  Saginaw-Saginaw Township North, MI M.S.A.    870.7     3.5  76.0   \n",
       "204                   Memphis, TN-MS-AR M.S.A.   1006.5     8.6  46.1   \n",
       "91           Detroit-Livonia-Dearborn, MI M.D.   1111.2    18.2  41.9   \n",
       "\n",
       "     Robbery  Assault  \n",
       "284    129.2    661.9  \n",
       "204    278.1    673.6  \n",
       "91     348.1    703.1  "
      ]
     },
     "execution_count": 965,
     "metadata": {},
     "output_type": "execute_result"
    }
   ],
   "source": [
    "# Selecting the 3 Metropolitan areas with highest violent crime rate in 2010\n",
    "crime10.sort_values('Violent').iloc[-3:,0:6]"
   ]
  },
  {
   "cell_type": "markdown",
   "metadata": {},
   "source": [
    "Detroit-Livonia-Dearborn, Memphis (again) and Saginaw-Saginaw Township North are the metropolitan areas with highest violent crime rates in 2010."
   ]
  },
  {
   "cell_type": "markdown",
   "metadata": {},
   "source": [
    "##### Property Crime rate by cities and years"
   ]
  },
  {
   "cell_type": "code",
   "execution_count": 1015,
   "metadata": {},
   "outputs": [
    {
     "data": {
      "image/png": "[encoded data removed]",
      "text/plain": [
       "<matplotlib.figure.Figure at 0x1c811d2908>"
      ]
     },
     "metadata": {},
     "output_type": "display_data"
    }
   ],
   "source": [
    "property00.plot.barh(x='MSA', stacked=True,figsize=(8,6))\n",
    "plt.legend(loc=(1,0))\n",
    "plt.title('Property Crime Rate of MSA (2000)')\n",
    "plt.xlabel('Incidents per 100,000 polulation')\n",
    "plt.grid(True);"
   ]
  },
  {
   "cell_type": "code",
   "execution_count": 1012,
   "metadata": {},
   "outputs": [
    {
     "data": {
      "text/html": [
       "<div>\n",
       "<style scoped>\n",
       "    .dataframe tbody tr th:only-of-type {\n",
       "        vertical-align: middle;\n",
       "    }\n",
       "\n",
       "    .dataframe tbody tr th {\n",
       "        vertical-align: top;\n",
       "    }\n",
       "\n",
       "    .dataframe thead th {\n",
       "        text-align: right;\n",
       "    }\n",
       "</style>\n",
       "<table border=\"1\" class=\"dataframe\">\n",
       "  <thead>\n",
       "    <tr style=\"text-align: right;\">\n",
       "      <th></th>\n",
       "      <th>MSA</th>\n",
       "      <th>Property</th>\n",
       "      <th>Burglary</th>\n",
       "      <th>Larceny</th>\n",
       "      <th>Car Theft</th>\n",
       "    </tr>\n",
       "  </thead>\n",
       "  <tbody>\n",
       "    <tr>\n",
       "      <th>178</th>\n",
       "      <td>Pine Bluff, AR M.S.A.</td>\n",
       "      <td>6682.9</td>\n",
       "      <td>2085.1</td>\n",
       "      <td>4151.3</td>\n",
       "      <td>446.5</td>\n",
       "    </tr>\n",
       "    <tr>\n",
       "      <th>149</th>\n",
       "      <td>Miami, FL M.S.A.</td>\n",
       "      <td>6855.8</td>\n",
       "      <td>1315.3</td>\n",
       "      <td>4476.4</td>\n",
       "      <td>1064.1</td>\n",
       "    </tr>\n",
       "    <tr>\n",
       "      <th>241</th>\n",
       "      <td>Tuscaloosa, AL M.S.A.</td>\n",
       "      <td>8120.1</td>\n",
       "      <td>1208.2</td>\n",
       "      <td>6579.4</td>\n",
       "      <td>332.5</td>\n",
       "    </tr>\n",
       "  </tbody>\n",
       "</table>\n",
       "</div>"
      ],
      "text/plain": [
       "                       MSA  Property  Burglary  Larceny  Car Theft\n",
       "178  Pine Bluff, AR M.S.A.    6682.9    2085.1   4151.3      446.5\n",
       "149       Miami, FL M.S.A.    6855.8    1315.3   4476.4     1064.1\n",
       "241  Tuscaloosa, AL M.S.A.    8120.1    1208.2   6579.4      332.5"
      ]
     },
     "execution_count": 1012,
     "metadata": {},
     "output_type": "execute_result"
    }
   ],
   "source": [
    "# Selecting the 3 Metropolitan areas with highest property crime rate in 2000.\n",
    "crime00.sort_values('Property').iloc[-3:,[0,6,7,8,9]]"
   ]
  },
  {
   "cell_type": "markdown",
   "metadata": {},
   "source": [
    "Tuscaloosa, Miami and Pine Bluff are the cities with highest properties crime rates in 2000."
   ]
  },
  {
   "cell_type": "code",
   "execution_count": 996,
   "metadata": {},
   "outputs": [
    {
     "data": {
      "image/png": "[encoded data removed]",
      "text/plain": [
       "<matplotlib.figure.Figure at 0x1c7d1d4080>"
      ]
     },
     "metadata": {},
     "output_type": "display_data"
    }
   ],
   "source": [
    "property05.plot.barh(x='MSA', stacked=True,figsize=(8,6))\n",
    "plt.legend(loc=(1,0))\n",
    "plt.title('Property Crime Rate of MSA  (2005)')\n",
    "plt.xlabel('Incidents per 100,000 polulation')\n",
    "plt.grid(True);"
   ]
  },
  {
   "cell_type": "code",
   "execution_count": 1005,
   "metadata": {},
   "outputs": [
    {
     "data": {
      "text/html": [
       "<div>\n",
       "<style scoped>\n",
       "    .dataframe tbody tr th:only-of-type {\n",
       "        vertical-align: middle;\n",
       "    }\n",
       "\n",
       "    .dataframe tbody tr th {\n",
       "        vertical-align: top;\n",
       "    }\n",
       "\n",
       "    .dataframe thead th {\n",
       "        text-align: right;\n",
       "    }\n",
       "</style>\n",
       "<table border=\"1\" class=\"dataframe\">\n",
       "  <thead>\n",
       "    <tr style=\"text-align: right;\">\n",
       "      <th></th>\n",
       "      <th>MSA</th>\n",
       "      <th>Property</th>\n",
       "      <th>Burglary</th>\n",
       "      <th>Larceny</th>\n",
       "      <th>Car Theft</th>\n",
       "    </tr>\n",
       "  </thead>\n",
       "  <tbody>\n",
       "    <tr>\n",
       "      <th>346</th>\n",
       "      <td>Yakima, WA M.S.A.</td>\n",
       "      <td>7017.4</td>\n",
       "      <td>1655.1</td>\n",
       "      <td>4417.0</td>\n",
       "      <td>945.3</td>\n",
       "    </tr>\n",
       "    <tr>\n",
       "      <th>211</th>\n",
       "      <td>Mount Vernon-Anacortes, WA M.S.A.</td>\n",
       "      <td>7469.3</td>\n",
       "      <td>1414.3</td>\n",
       "      <td>5533.6</td>\n",
       "      <td>521.5</td>\n",
       "    </tr>\n",
       "    <tr>\n",
       "      <th>134</th>\n",
       "      <td>Hot Springs, AR M.S.A.</td>\n",
       "      <td>7601.9</td>\n",
       "      <td>1939.2</td>\n",
       "      <td>5118.8</td>\n",
       "      <td>543.9</td>\n",
       "    </tr>\n",
       "  </tbody>\n",
       "</table>\n",
       "</div>"
      ],
      "text/plain": [
       "                                   MSA  Property  Burglary  Larceny  Car Theft\n",
       "346                  Yakima, WA M.S.A.    7017.4    1655.1   4417.0      945.3\n",
       "211  Mount Vernon-Anacortes, WA M.S.A.    7469.3    1414.3   5533.6      521.5\n",
       "134             Hot Springs, AR M.S.A.    7601.9    1939.2   5118.8      543.9"
      ]
     },
     "execution_count": 1005,
     "metadata": {},
     "output_type": "execute_result"
    }
   ],
   "source": [
    "# Selecting the 3 Metropolitan areas with highest property crime rate in 2005.\n",
    "crime05.sort_values('Property').iloc[-3:,[0,6,7,8,9]]"
   ]
  },
  {
   "cell_type": "markdown",
   "metadata": {},
   "source": [
    "Hot Springs, Mount Vernon-Anacortes, and Yakima are the cities with highest properties crime rates in 2005."
   ]
  },
  {
   "cell_type": "code",
   "execution_count": 997,
   "metadata": {},
   "outputs": [
    {
     "data": {
      "image/png": "[encoded data removed]",
      "text/plain": [
       "<matplotlib.figure.Figure at 0x1c804a94a8>"
      ]
     },
     "metadata": {},
     "output_type": "display_data"
    }
   ],
   "source": [
    "property10.plot.barh(x='MSA', stacked=True,figsize=(8,6))\n",
    "plt.legend(loc=(1,0))\n",
    "plt.title('Property Crime Rate of MSA (2010)')\n",
    "plt.xlabel('Incidents per 100,000 polulation')\n",
    "plt.grid(True);"
   ]
  },
  {
   "cell_type": "code",
   "execution_count": 1004,
   "metadata": {},
   "outputs": [
    {
     "data": {
      "text/html": [
       "<div>\n",
       "<style scoped>\n",
       "    .dataframe tbody tr th:only-of-type {\n",
       "        vertical-align: middle;\n",
       "    }\n",
       "\n",
       "    .dataframe tbody tr th {\n",
       "        vertical-align: top;\n",
       "    }\n",
       "\n",
       "    .dataframe thead th {\n",
       "        text-align: right;\n",
       "    }\n",
       "</style>\n",
       "<table border=\"1\" class=\"dataframe\">\n",
       "  <thead>\n",
       "    <tr style=\"text-align: right;\">\n",
       "      <th></th>\n",
       "      <th>MSA</th>\n",
       "      <th>Property</th>\n",
       "      <th>Burglary</th>\n",
       "      <th>Larceny</th>\n",
       "      <th>Car Theft</th>\n",
       "    </tr>\n",
       "  </thead>\n",
       "  <tbody>\n",
       "    <tr>\n",
       "      <th>142</th>\n",
       "      <td>Hot Springs, AR M.S.A.</td>\n",
       "      <td>5538.5</td>\n",
       "      <td>1962.6</td>\n",
       "      <td>3246.6</td>\n",
       "      <td>329.3</td>\n",
       "    </tr>\n",
       "    <tr>\n",
       "      <th>223</th>\n",
       "      <td>Myrtle Beach-North Myrtle Beach-Conway, SC M.S.A.</td>\n",
       "      <td>5632.1</td>\n",
       "      <td>1330.8</td>\n",
       "      <td>3795.5</td>\n",
       "      <td>505.9</td>\n",
       "    </tr>\n",
       "    <tr>\n",
       "      <th>70</th>\n",
       "      <td>Columbus, GA-AL M.S.A.</td>\n",
       "      <td>5824.6</td>\n",
       "      <td>1533.2</td>\n",
       "      <td>3857.9</td>\n",
       "      <td>433.5</td>\n",
       "    </tr>\n",
       "  </tbody>\n",
       "</table>\n",
       "</div>"
      ],
      "text/plain": [
       "                                                   MSA  Property  Burglary  \\\n",
       "142                             Hot Springs, AR M.S.A.    5538.5    1962.6   \n",
       "223  Myrtle Beach-North Myrtle Beach-Conway, SC M.S.A.    5632.1    1330.8   \n",
       "70                              Columbus, GA-AL M.S.A.    5824.6    1533.2   \n",
       "\n",
       "     Larceny  Car Theft  \n",
       "142   3246.6      329.3  \n",
       "223   3795.5      505.9  \n",
       "70    3857.9      433.5  "
      ]
     },
     "execution_count": 1004,
     "metadata": {},
     "output_type": "execute_result"
    }
   ],
   "source": [
    "# Selecting the 3 Metropolitan areas with highest property crime rate in 2010.\n",
    "crime10.sort_values('Property').iloc[-3:,[0,6,7,8,9]]"
   ]
  },
  {
   "cell_type": "markdown",
   "metadata": {},
   "source": [
    "Columbus, Myrtle Beach-North Myrtle Beach-Conway and Hot Springs are the cities with highest properties crime rates in 2005."
   ]
  },
  {
   "cell_type": "markdown",
   "metadata": {},
   "source": [
    "### Anova\n",
    "\n",
    "#### Violent crime rate by year\n",
    "We want to know whether violent crime rates over time are signifficantly different (significance level $\\alpha$ = 0.05).<br><br>\n",
    "Hypothesis in one-way ANOVA test:<br><br>\n",
    "<center>*H0: The mean of violent crime rates are identical*</center>\n",
    "<center>*H1 : At least the mean violent crime rates of one year is significantly different from the others*</center>"
   ]
  },
  {
   "cell_type": "code",
   "execution_count": 1013,
   "metadata": {},
   "outputs": [
    {
     "data": {
      "text/html": [
       "<div>\n",
       "<style scoped>\n",
       "    .dataframe tbody tr th:only-of-type {\n",
       "        vertical-align: middle;\n",
       "    }\n",
       "\n",
       "    .dataframe tbody tr th {\n",
       "        vertical-align: top;\n",
       "    }\n",
       "\n",
       "    .dataframe thead th {\n",
       "        text-align: right;\n",
       "    }\n",
       "</style>\n",
       "<table border=\"1\" class=\"dataframe\">\n",
       "  <thead>\n",
       "    <tr style=\"text-align: right;\">\n",
       "      <th></th>\n",
       "      <th>Violent</th>\n",
       "      <th>Property</th>\n",
       "    </tr>\n",
       "    <tr>\n",
       "      <th>year</th>\n",
       "      <th></th>\n",
       "      <th></th>\n",
       "    </tr>\n",
       "  </thead>\n",
       "  <tbody>\n",
       "    <tr>\n",
       "      <th>2000</th>\n",
       "      <td>468.154132</td>\n",
       "      <td>3967.759091</td>\n",
       "    </tr>\n",
       "    <tr>\n",
       "      <th>2005</th>\n",
       "      <td>436.783143</td>\n",
       "      <td>3653.956286</td>\n",
       "    </tr>\n",
       "    <tr>\n",
       "      <th>2010</th>\n",
       "      <td>392.400568</td>\n",
       "      <td>3147.252273</td>\n",
       "    </tr>\n",
       "  </tbody>\n",
       "</table>\n",
       "</div>"
      ],
      "text/plain": [
       "         Violent     Property\n",
       "year                         \n",
       "2000  468.154132  3967.759091\n",
       "2005  436.783143  3653.956286\n",
       "2010  392.400568  3147.252273"
      ]
     },
     "execution_count": 1013,
     "metadata": {},
     "output_type": "execute_result"
    }
   ],
   "source": [
    "# Mean rates at each year\n",
    "means_crime = crime.groupby(['year']).mean()\n",
    "means_crime[['Violent','Property']]"
   ]
  },
  {
   "cell_type": "code",
   "execution_count": 850,
   "metadata": {},
   "outputs": [
    {
     "data": {
      "text/plain": [
       "[2000, 2000, 2000, 2000, 2000, ..., 2010, 2010, 2010, 2010, 2010]\n",
       "Length: 944\n",
       "Categories (3, int64): [2000 < 2005 < 2010]"
      ]
     },
     "execution_count": 850,
     "metadata": {},
     "output_type": "execute_result"
    }
   ],
   "source": [
    "# Ordering the factor level\n",
    "year = pd.Categorical(crime['year'],categories=[2000,2005,2010],ordered=True)\n",
    "year"
   ]
  },
  {
   "cell_type": "markdown",
   "metadata": {},
   "source": [
    "Violent crime rate by year"
   ]
  },
  {
   "cell_type": "code",
   "execution_count": 1014,
   "metadata": {},
   "outputs": [
    {
     "data": {
      "text/html": [
       "<div>\n",
       "<style scoped>\n",
       "    .dataframe tbody tr th:only-of-type {\n",
       "        vertical-align: middle;\n",
       "    }\n",
       "\n",
       "    .dataframe tbody tr th {\n",
       "        vertical-align: top;\n",
       "    }\n",
       "\n",
       "    .dataframe thead th {\n",
       "        text-align: right;\n",
       "    }\n",
       "</style>\n",
       "<table border=\"1\" class=\"dataframe\">\n",
       "  <thead>\n",
       "    <tr style=\"text-align: right;\">\n",
       "      <th></th>\n",
       "      <th>sum_sq</th>\n",
       "      <th>df</th>\n",
       "      <th>F</th>\n",
       "      <th>PR(&gt;F)</th>\n",
       "    </tr>\n",
       "  </thead>\n",
       "  <tbody>\n",
       "    <tr>\n",
       "      <th>year</th>\n",
       "      <td>8.632147e+05</td>\n",
       "      <td>2.0</td>\n",
       "      <td>10.077739</td>\n",
       "      <td>0.000047</td>\n",
       "    </tr>\n",
       "    <tr>\n",
       "      <th>Residual</th>\n",
       "      <td>4.030096e+07</td>\n",
       "      <td>941.0</td>\n",
       "      <td>NaN</td>\n",
       "      <td>NaN</td>\n",
       "    </tr>\n",
       "  </tbody>\n",
       "</table>\n",
       "</div>"
      ],
      "text/plain": [
       "                sum_sq     df          F    PR(>F)\n",
       "year      8.632147e+05    2.0  10.077739  0.000047\n",
       "Residual  4.030096e+07  941.0        NaN       NaN"
      ]
     },
     "execution_count": 1014,
     "metadata": {},
     "output_type": "execute_result"
    }
   ],
   "source": [
    "violent_anova = ols('Violent ~ year', data= crime).fit()\n",
    "aov_table = sm.stats.anova_lm(violent_anova, typ=2)\n",
    "aov_table"
   ]
  },
  {
   "cell_type": "markdown",
   "metadata": {},
   "source": [
    "There was **significant** difference between means of crime rate in the three years analyzed (p < $\\alpha$ = 0.05). In other words, we rejected the H0 and we concluded that there is at least one year where mean of crime rates is significantly different from the other years.<br><br>\n",
    "Model checking"
   ]
  },
  {
   "cell_type": "code",
   "execution_count": 893,
   "metadata": {},
   "outputs": [],
   "source": [
    "# fitted values (need a constant term for intercept)\n",
    "model_fitted_y = violent_anova.fittedvalues\n",
    "\n",
    "# model residuals\n",
    "model_residuals = violent_anova.resid\n",
    "\n",
    "# normalized residuals\n",
    "model_norm_residuals = violent_anova.get_influence().resid_studentized_internal\n",
    "\n",
    "# absolute squared normalized residuals\n",
    "model_norm_residuals_abs_sqrt = np.sqrt(np.abs(model_norm_residuals))\n",
    "\n",
    "# absolute residuals\n",
    "model_abs_resid = np.abs(model_residuals)"
   ]
  },
  {
   "cell_type": "code",
   "execution_count": 904,
   "metadata": {},
   "outputs": [
    {
     "data": {
      "image/png": "[encoded data removed]",
      "text/plain": [
       "<matplotlib.figure.Figure at 0x1c89003550>"
      ]
     },
     "metadata": {},
     "output_type": "display_data"
    },
    {
     "data": {
      "image/png": "[encoded data removed]",
      "text/plain": [
       "<matplotlib.figure.Figure at 0x1c7f543e80>"
      ]
     },
     "metadata": {},
     "output_type": "display_data"
    }
   ],
   "source": [
    "plot_lm_1 = plt.figure(1)\n",
    "plot_lm_1.set_figheight(4)\n",
    "plot_lm_1.set_figwidth(7)\n",
    "\n",
    "plot_lm_1.axes[0] = sns.residplot(model_fitted_y, 'Violent', data=crime, \n",
    "                          lowess=True, \n",
    "                          scatter_kws={'alpha': 0.5}, \n",
    "                          line_kws={'color': 'red', 'lw': 1, 'alpha': 0.8})\n",
    "\n",
    "plot_lm_1.axes[0].set_title('Residuals vs Fitted')\n",
    "plot_lm_1.axes[0].set_xlabel('Fitted values')\n",
    "plot_lm_1.axes[0].set_ylabel('Residuals')\n",
    "\n",
    "   \n",
    "QQ = ProbPlot(model_norm_residuals)\n",
    "plot_lm_2 = QQ.qqplot(line='45', alpha=0.5, color='#4C72B0', lw=0.5); plt.xlim(-3.2, 3.2) \n",
    "\n",
    "plot_lm_2.set_figheight(4)\n",
    "plot_lm_2.set_figwidth(7)\n",
    "\n",
    "plot_lm_2.axes[0].set_title('Normal Q-Q')\n",
    "plot_lm_2.axes[0].set_xlabel('Theoretical Quantiles')\n",
    "plot_lm_2.axes[0].set_ylabel('Standardized Residuals');"
   ]
  },
  {
   "cell_type": "markdown",
   "metadata": {},
   "source": [
    "In this residual versus fitted plot, the points appear randomly scattered on the plot. None of the years appear to have substantially different variability in crime rate and no outliers are apparent.<br><br>\n",
    "The Q-Q plot shows that errors are not normally distributed (we can not see a straight line, i.e. 1-1 relationship between standardized residuals and theoretical residuals in both tails) relationship. "
   ]
  },
  {
   "cell_type": "markdown",
   "metadata": {},
   "source": [
    "#### Property crime rate by year\n",
    "We want to know whether property crime rates over time are signifficantly different (significance level $\\alpha$ = 0.05).<br><br>\n",
    "Hypothesis in one-way ANOVA test:<br><br>\n",
    "<center>*H0: The mean of property crime rates are identical*</center>\n",
    "<center>*H1 : At least the mean property crime rates of one year is significantly different from the others*</center>"
   ]
  },
  {
   "cell_type": "code",
   "execution_count": 905,
   "metadata": {},
   "outputs": [
    {
     "data": {
      "text/html": [
       "<div>\n",
       "<style scoped>\n",
       "    .dataframe tbody tr th:only-of-type {\n",
       "        vertical-align: middle;\n",
       "    }\n",
       "\n",
       "    .dataframe tbody tr th {\n",
       "        vertical-align: top;\n",
       "    }\n",
       "\n",
       "    .dataframe thead th {\n",
       "        text-align: right;\n",
       "    }\n",
       "</style>\n",
       "<table border=\"1\" class=\"dataframe\">\n",
       "  <thead>\n",
       "    <tr style=\"text-align: right;\">\n",
       "      <th></th>\n",
       "      <th>sum_sq</th>\n",
       "      <th>df</th>\n",
       "      <th>F</th>\n",
       "      <th>PR(&gt;F)</th>\n",
       "    </tr>\n",
       "  </thead>\n",
       "  <tbody>\n",
       "    <tr>\n",
       "      <th>year</th>\n",
       "      <td>1.030939e+08</td>\n",
       "      <td>2.0</td>\n",
       "      <td>42.519996</td>\n",
       "      <td>2.094691e-18</td>\n",
       "    </tr>\n",
       "    <tr>\n",
       "      <th>Residual</th>\n",
       "      <td>1.140773e+09</td>\n",
       "      <td>941.0</td>\n",
       "      <td>NaN</td>\n",
       "      <td>NaN</td>\n",
       "    </tr>\n",
       "  </tbody>\n",
       "</table>\n",
       "</div>"
      ],
      "text/plain": [
       "                sum_sq     df          F        PR(>F)\n",
       "year      1.030939e+08    2.0  42.519996  2.094691e-18\n",
       "Residual  1.140773e+09  941.0        NaN           NaN"
      ]
     },
     "execution_count": 905,
     "metadata": {},
     "output_type": "execute_result"
    }
   ],
   "source": [
    "property_anova = ols('Property ~ year', data= crime).fit()\n",
    "aov_table = sm.stats.anova_lm(property_anova, typ=2)\n",
    "aov_table"
   ]
  },
  {
   "cell_type": "markdown",
   "metadata": {},
   "source": [
    "There was **significant** difference between means of property crime rate in the three years analyzed (p < $\\alpha$ = 0.05). In other words, we rejected the H0 and we concluded that there is at least one year where mean of property crime rates is significantly different from the other years.<br><br>\n",
    "Model checking"
   ]
  },
  {
   "cell_type": "code",
   "execution_count": 906,
   "metadata": {},
   "outputs": [],
   "source": [
    "# fitted values (need a constant term for intercept)\n",
    "model_fitted_y = property_anova.fittedvalues\n",
    "\n",
    "# model residuals\n",
    "model_residuals = property_anova.resid\n",
    "\n",
    "# normalized residuals\n",
    "model_norm_residuals = property_anova.get_influence().resid_studentized_internal\n",
    "\n",
    "# absolute squared normalized residuals\n",
    "model_norm_residuals_abs_sqrt = np.sqrt(np.abs(model_norm_residuals))\n",
    "\n",
    "# absolute residuals\n",
    "model_abs_resid = np.abs(model_residuals)"
   ]
  },
  {
   "cell_type": "code",
   "execution_count": 909,
   "metadata": {},
   "outputs": [
    {
     "data": {
      "image/png": "[encoded data removed]",
      "text/plain": [
       "<matplotlib.figure.Figure at 0x1c870b7a58>"
      ]
     },
     "metadata": {},
     "output_type": "display_data"
    },
    {
     "data": {
      "image/png": "[encoded data removed]",
      "text/plain": [
       "<matplotlib.figure.Figure at 0x1c7d25fa90>"
      ]
     },
     "metadata": {},
     "output_type": "display_data"
    }
   ],
   "source": [
    "plot_lm_1 = plt.figure(1)\n",
    "plot_lm_1.set_figheight(4)\n",
    "plot_lm_1.set_figwidth(7)\n",
    "\n",
    "plot_lm_1.axes[0] = sns.residplot(model_fitted_y, 'Property', data=crime, \n",
    "                          lowess=True, \n",
    "                          scatter_kws={'alpha': 0.5}, \n",
    "                          line_kws={'color': 'red', 'lw': 1, 'alpha': 0.8})\n",
    "\n",
    "plot_lm_1.axes[0].set_title('Residuals vs Fitted')\n",
    "plot_lm_1.axes[0].set_xlabel('Fitted values')\n",
    "plot_lm_1.axes[0].set_ylabel('Residuals')\n",
    "\n",
    "   \n",
    "QQ = ProbPlot(model_norm_residuals)\n",
    "plot_lm_2 = QQ.qqplot(line='45', alpha=0.5, color='#4C72B0', lw=0.5); plt.xlim(-3.2, 3.2) \n",
    "\n",
    "plot_lm_2.set_figheight(4)\n",
    "plot_lm_2.set_figwidth(7)\n",
    "\n",
    "plot_lm_2.axes[0].set_title('Normal Q-Q')\n",
    "plot_lm_2.axes[0].set_xlabel('Theoretical Quantiles')\n",
    "plot_lm_2.axes[0].set_ylabel('Standardized Residuals');"
   ]
  },
  {
   "cell_type": "markdown",
   "metadata": {},
   "source": [
    "### Conclusion\n",
    "\n",
    "The variables that contibute the most to the rising crime rates are **assault** and **larceny**.<br><br>\n",
    "Assaults have a strong possitive relashiondhip with violent crime rates (Pearson correlation coefficient of 0.96), while Larceries have a strong possitive relashiondhip with property crimes (Pearson correlation coefficient of 0.93).<br><br>\n",
    "There was **significant** difference between means of crime rate in the three years analyzed (p < $\\alpha$ = 0.05).<br><br>\n",
    "There was **significant** difference between means of property crime rate in the three years analyzed (p < $\\alpha$ = 0.05)"
   ]
  }
 ],
 "metadata": {
  "kernelspec": {
   "display_name": "Python 3",
   "language": "python",
   "name": "python3"
  },
  "language_info": {
   "codemirror_mode": {
    "name": "ipython",
    "version": 3
   },
   "file_extension": ".py",
   "mimetype": "text/x-python",
   "name": "python",
   "nbconvert_exporter": "python",
   "pygments_lexer": "ipython3",
   "version": "3.6.6"
  }
 },
 "nbformat": 4,
 "nbformat_minor": 2
}
